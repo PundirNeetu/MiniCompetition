{
 "cells": [
  {
   "cell_type": "code",
   "execution_count": 3,
   "metadata": {},
   "outputs": [],
   "source": [
    "import os\n",
    "\n",
    "def create_folder_structure():\n",
    "    folders = [\n",
    "        \"data\",\n",
    "        \"docs\",\n",
    "        \"models\",\n",
    "        \"notebooks\",\n",
    "        \"reports/figures\",\n",
    "        \"src\",\n",
    "        \"src/modeling\"\n",
    "    ]\n",
    "    \n",
    "    for folder in folders:\n",
    "        os.makedirs(os.path.join(folder), exist_ok=True)\n",
    "    \n",
    "    files = [\n",
    "             \"src/__init__.py\", \"src/config.py\", \"src/dataset.py\", \n",
    "             \"src/features.py\", \"src/modeling/__init__.py\", \n",
    "             \"src/modeling/predict.py\", \"src/modeling/train.py\", \n",
    "             \"src/plots.py\"]\n",
    "    \n",
    "    for file in files:\n",
    "        open(os.path.join(file), 'a').close()\n",
    "\n",
    "# Create the folder structure\n",
    "\n",
    "create_folder_structure()"
   ]
  },
  {
   "cell_type": "code",
   "execution_count": null,
   "metadata": {},
   "outputs": [],
   "source": []
  }
 ],
 "metadata": {
  "kernelspec": {
   "display_name": "Python 3",
   "language": "python",
   "name": "python3"
  },
  "language_info": {
   "codemirror_mode": {
    "name": "ipython",
    "version": 3
   },
   "file_extension": ".py",
   "mimetype": "text/x-python",
   "name": "python",
   "nbconvert_exporter": "python",
   "pygments_lexer": "ipython3",
   "version": "3.12.6"
  }
 },
 "nbformat": 4,
 "nbformat_minor": 2
}
