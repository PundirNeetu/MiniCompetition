{
 "cells": [
  {
   "metadata": {
    "ExecuteTime": {
     "end_time": "2024-10-03T19:02:39.586796Z",
     "start_time": "2024-10-03T19:02:39.583691Z"
    }
   },
   "cell_type": "code",
   "source": [
    "import sys\n",
    "\n",
    "from fontTools.misc.cython import returns\n",
    "\n",
    "sys.path.append('../src')\n",
    "sys.path.append('../src/modeling') "
   ],
   "id": "51fb96b58e592006",
   "outputs": [],
   "execution_count": 103
  },
  {
   "cell_type": "code",
   "id": "initial_id",
   "metadata": {
    "collapsed": true,
    "ExecuteTime": {
     "end_time": "2024-10-03T19:02:40.153992Z",
     "start_time": "2024-10-03T19:02:40.152055Z"
    }
   },
   "source": [
    "import pandas as pd\n",
    "import numpy as np\n"
   ],
   "outputs": [],
   "execution_count": 104
  },
  {
   "metadata": {},
   "cell_type": "code",
   "outputs": [],
   "execution_count": null,
   "source": [
    "def import_data(data_path):\n",
    "    df = pd.read_csv(data_path)\n",
    "    return df"
   ],
   "id": "553b5dfdcd19b0e3"
  },
  {
   "metadata": {
    "ExecuteTime": {
     "end_time": "2024-10-03T19:02:41.010094Z",
     "start_time": "2024-10-03T19:02:40.741830Z"
    }
   },
   "cell_type": "code",
   "source": [
    "raw_data_values = import_data('../data/train_values.csv')\n",
    "train_labels = import_data('../data/train_labels.csv')\n",
    "raw_data_values.dtypes"
   ],
   "id": "e03afea58904e2fe",
   "outputs": [
    {
     "data": {
      "text/plain": [
       "building_id                                int64\n",
       "geo_level_1_id                             int64\n",
       "geo_level_2_id                             int64\n",
       "geo_level_3_id                             int64\n",
       "count_floors_pre_eq                        int64\n",
       "age                                        int64\n",
       "area_percentage                            int64\n",
       "height_percentage                          int64\n",
       "land_surface_condition                    object\n",
       "foundation_type                           object\n",
       "roof_type                                 object\n",
       "ground_floor_type                         object\n",
       "other_floor_type                          object\n",
       "position                                  object\n",
       "plan_configuration                        object\n",
       "has_superstructure_adobe_mud               int64\n",
       "has_superstructure_mud_mortar_stone        int64\n",
       "has_superstructure_stone_flag              int64\n",
       "has_superstructure_cement_mortar_stone     int64\n",
       "has_superstructure_mud_mortar_brick        int64\n",
       "has_superstructure_cement_mortar_brick     int64\n",
       "has_superstructure_timber                  int64\n",
       "has_superstructure_bamboo                  int64\n",
       "has_superstructure_rc_non_engineered       int64\n",
       "has_superstructure_rc_engineered           int64\n",
       "has_superstructure_other                   int64\n",
       "legal_ownership_status                    object\n",
       "count_families                             int64\n",
       "has_secondary_use                          int64\n",
       "has_secondary_use_agriculture              int64\n",
       "has_secondary_use_hotel                    int64\n",
       "has_secondary_use_rental                   int64\n",
       "has_secondary_use_institution              int64\n",
       "has_secondary_use_school                   int64\n",
       "has_secondary_use_industry                 int64\n",
       "has_secondary_use_health_post              int64\n",
       "has_secondary_use_gov_office               int64\n",
       "has_secondary_use_use_police               int64\n",
       "has_secondary_use_other                    int64\n",
       "dtype: object"
      ]
     },
     "execution_count": 105,
     "metadata": {},
     "output_type": "execute_result"
    }
   ],
   "execution_count": 105
  },
  {
   "metadata": {
    "ExecuteTime": {
     "end_time": "2024-10-03T19:02:42.636196Z",
     "start_time": "2024-10-03T19:02:42.603527Z"
    }
   },
   "cell_type": "code",
   "source": [
    "categorical_columns = raw_data_values.select_dtypes(include='object').columns\n",
    "numerical_columns = raw_data_values.select_dtypes(include='number').columns\n",
    "#print(categorical_columns)\n",
    "#print(numerical_columns)"
   ],
   "id": "abdc7f3fa6b1f2c9",
   "outputs": [],
   "execution_count": 106
  },
  {
   "metadata": {},
   "cell_type": "markdown",
   "source": [
    "**Missing values ('0') in 'age' and 'count_families'**\n",
    "\n",
    "age:\n",
    "0      26041\n",
    "\n",
    "count_families:\n",
    "0     20862"
   ],
   "id": "50e59b48f40bca44"
  },
  {
   "metadata": {
    "ExecuteTime": {
     "end_time": "2024-10-03T19:02:44.545576Z",
     "start_time": "2024-10-03T19:02:44.542633Z"
    }
   },
   "cell_type": "code",
   "source": "columns_to_clean = ['age', 'count_families']\n",
   "id": "3dbb65735b6864dc",
   "outputs": [],
   "execution_count": 107
  },
  {
   "metadata": {
    "ExecuteTime": {
     "end_time": "2024-10-03T19:02:48.455136Z",
     "start_time": "2024-10-03T19:02:48.393123Z"
    }
   },
   "cell_type": "code",
   "source": [
    "y = train_labels['damage_grade']\n",
    "\n",
    "#the building_id column is a unique and random identifier, therefore has to be removed from the features\n",
    "X_raw = raw_data_values.drop('building_id', axis=1)\n",
    "#X_raw = raw_data_values.drop(categorical_columns, axis=1)\n",
    "\n",
    "X_raw.head()"
   ],
   "id": "e289eb924185cecf",
   "outputs": [
    {
     "data": {
      "text/plain": [
       "   geo_level_1_id  geo_level_2_id  geo_level_3_id  count_floors_pre_eq  age  \\\n",
       "0               6             487           12198                    2   30   \n",
       "1               8             900            2812                    2   10   \n",
       "2              21             363            8973                    2   10   \n",
       "3              22             418           10694                    2   10   \n",
       "4              11             131            1488                    3   30   \n",
       "\n",
       "   area_percentage  height_percentage land_surface_condition foundation_type  \\\n",
       "0                6                  5                      t               r   \n",
       "1                8                  7                      o               r   \n",
       "2                5                  5                      t               r   \n",
       "3                6                  5                      t               r   \n",
       "4                8                  9                      t               r   \n",
       "\n",
       "  roof_type  ... has_secondary_use_agriculture has_secondary_use_hotel  \\\n",
       "0         n  ...                             0                       0   \n",
       "1         n  ...                             0                       0   \n",
       "2         n  ...                             0                       0   \n",
       "3         n  ...                             0                       0   \n",
       "4         n  ...                             0                       0   \n",
       "\n",
       "  has_secondary_use_rental has_secondary_use_institution  \\\n",
       "0                        0                             0   \n",
       "1                        0                             0   \n",
       "2                        0                             0   \n",
       "3                        0                             0   \n",
       "4                        0                             0   \n",
       "\n",
       "   has_secondary_use_school  has_secondary_use_industry  \\\n",
       "0                         0                           0   \n",
       "1                         0                           0   \n",
       "2                         0                           0   \n",
       "3                         0                           0   \n",
       "4                         0                           0   \n",
       "\n",
       "   has_secondary_use_health_post  has_secondary_use_gov_office  \\\n",
       "0                              0                             0   \n",
       "1                              0                             0   \n",
       "2                              0                             0   \n",
       "3                              0                             0   \n",
       "4                              0                             0   \n",
       "\n",
       "   has_secondary_use_use_police  has_secondary_use_other  \n",
       "0                             0                        0  \n",
       "1                             0                        0  \n",
       "2                             0                        0  \n",
       "3                             0                        0  \n",
       "4                             0                        0  \n",
       "\n",
       "[5 rows x 38 columns]"
      ],
      "text/html": [
       "<div>\n",
       "<style scoped>\n",
       "    .dataframe tbody tr th:only-of-type {\n",
       "        vertical-align: middle;\n",
       "    }\n",
       "\n",
       "    .dataframe tbody tr th {\n",
       "        vertical-align: top;\n",
       "    }\n",
       "\n",
       "    .dataframe thead th {\n",
       "        text-align: right;\n",
       "    }\n",
       "</style>\n",
       "<table border=\"1\" class=\"dataframe\">\n",
       "  <thead>\n",
       "    <tr style=\"text-align: right;\">\n",
       "      <th></th>\n",
       "      <th>geo_level_1_id</th>\n",
       "      <th>geo_level_2_id</th>\n",
       "      <th>geo_level_3_id</th>\n",
       "      <th>count_floors_pre_eq</th>\n",
       "      <th>age</th>\n",
       "      <th>area_percentage</th>\n",
       "      <th>height_percentage</th>\n",
       "      <th>land_surface_condition</th>\n",
       "      <th>foundation_type</th>\n",
       "      <th>roof_type</th>\n",
       "      <th>...</th>\n",
       "      <th>has_secondary_use_agriculture</th>\n",
       "      <th>has_secondary_use_hotel</th>\n",
       "      <th>has_secondary_use_rental</th>\n",
       "      <th>has_secondary_use_institution</th>\n",
       "      <th>has_secondary_use_school</th>\n",
       "      <th>has_secondary_use_industry</th>\n",
       "      <th>has_secondary_use_health_post</th>\n",
       "      <th>has_secondary_use_gov_office</th>\n",
       "      <th>has_secondary_use_use_police</th>\n",
       "      <th>has_secondary_use_other</th>\n",
       "    </tr>\n",
       "  </thead>\n",
       "  <tbody>\n",
       "    <tr>\n",
       "      <th>0</th>\n",
       "      <td>6</td>\n",
       "      <td>487</td>\n",
       "      <td>12198</td>\n",
       "      <td>2</td>\n",
       "      <td>30</td>\n",
       "      <td>6</td>\n",
       "      <td>5</td>\n",
       "      <td>t</td>\n",
       "      <td>r</td>\n",
       "      <td>n</td>\n",
       "      <td>...</td>\n",
       "      <td>0</td>\n",
       "      <td>0</td>\n",
       "      <td>0</td>\n",
       "      <td>0</td>\n",
       "      <td>0</td>\n",
       "      <td>0</td>\n",
       "      <td>0</td>\n",
       "      <td>0</td>\n",
       "      <td>0</td>\n",
       "      <td>0</td>\n",
       "    </tr>\n",
       "    <tr>\n",
       "      <th>1</th>\n",
       "      <td>8</td>\n",
       "      <td>900</td>\n",
       "      <td>2812</td>\n",
       "      <td>2</td>\n",
       "      <td>10</td>\n",
       "      <td>8</td>\n",
       "      <td>7</td>\n",
       "      <td>o</td>\n",
       "      <td>r</td>\n",
       "      <td>n</td>\n",
       "      <td>...</td>\n",
       "      <td>0</td>\n",
       "      <td>0</td>\n",
       "      <td>0</td>\n",
       "      <td>0</td>\n",
       "      <td>0</td>\n",
       "      <td>0</td>\n",
       "      <td>0</td>\n",
       "      <td>0</td>\n",
       "      <td>0</td>\n",
       "      <td>0</td>\n",
       "    </tr>\n",
       "    <tr>\n",
       "      <th>2</th>\n",
       "      <td>21</td>\n",
       "      <td>363</td>\n",
       "      <td>8973</td>\n",
       "      <td>2</td>\n",
       "      <td>10</td>\n",
       "      <td>5</td>\n",
       "      <td>5</td>\n",
       "      <td>t</td>\n",
       "      <td>r</td>\n",
       "      <td>n</td>\n",
       "      <td>...</td>\n",
       "      <td>0</td>\n",
       "      <td>0</td>\n",
       "      <td>0</td>\n",
       "      <td>0</td>\n",
       "      <td>0</td>\n",
       "      <td>0</td>\n",
       "      <td>0</td>\n",
       "      <td>0</td>\n",
       "      <td>0</td>\n",
       "      <td>0</td>\n",
       "    </tr>\n",
       "    <tr>\n",
       "      <th>3</th>\n",
       "      <td>22</td>\n",
       "      <td>418</td>\n",
       "      <td>10694</td>\n",
       "      <td>2</td>\n",
       "      <td>10</td>\n",
       "      <td>6</td>\n",
       "      <td>5</td>\n",
       "      <td>t</td>\n",
       "      <td>r</td>\n",
       "      <td>n</td>\n",
       "      <td>...</td>\n",
       "      <td>0</td>\n",
       "      <td>0</td>\n",
       "      <td>0</td>\n",
       "      <td>0</td>\n",
       "      <td>0</td>\n",
       "      <td>0</td>\n",
       "      <td>0</td>\n",
       "      <td>0</td>\n",
       "      <td>0</td>\n",
       "      <td>0</td>\n",
       "    </tr>\n",
       "    <tr>\n",
       "      <th>4</th>\n",
       "      <td>11</td>\n",
       "      <td>131</td>\n",
       "      <td>1488</td>\n",
       "      <td>3</td>\n",
       "      <td>30</td>\n",
       "      <td>8</td>\n",
       "      <td>9</td>\n",
       "      <td>t</td>\n",
       "      <td>r</td>\n",
       "      <td>n</td>\n",
       "      <td>...</td>\n",
       "      <td>0</td>\n",
       "      <td>0</td>\n",
       "      <td>0</td>\n",
       "      <td>0</td>\n",
       "      <td>0</td>\n",
       "      <td>0</td>\n",
       "      <td>0</td>\n",
       "      <td>0</td>\n",
       "      <td>0</td>\n",
       "      <td>0</td>\n",
       "    </tr>\n",
       "  </tbody>\n",
       "</table>\n",
       "<p>5 rows × 38 columns</p>\n",
       "</div>"
      ]
     },
     "execution_count": 108,
     "metadata": {},
     "output_type": "execute_result"
    }
   ],
   "execution_count": 108
  },
  {
   "metadata": {
    "ExecuteTime": {
     "end_time": "2024-10-03T19:30:31.446897Z",
     "start_time": "2024-10-03T19:30:29.864254Z"
    }
   },
   "cell_type": "code",
   "source": [
    "from sklearn.pipeline import Pipeline\n",
    "from sklearn.impute import SimpleImputer\n",
    "from sklearn.preprocessing import OneHotEncoder\n",
    "from sklearn.compose import ColumnTransformer\n",
    "from sklearn.metrics import f1_score\n",
    "from sklearn.ensemble import RandomForestClassifier\n",
    "from sklearn.model_selection import train_test_split\n",
    "\n",
    "\n",
    "def create_numerical_transformer():\n",
    "    return Pipeline(steps=[\n",
    "        ('imputer', SimpleImputer(missing_values=0, strategy='mean')) \n",
    "    ])\n",
    "\n",
    "\n",
    "def create_categorical_transformer():\n",
    "    return Pipeline(steps=[\n",
    "        ('onehot', OneHotEncoder(handle_unknown='ignore'))\n",
    "    ])\n",
    "\n",
    "def create_preprocessor(numerical_transformer, categorical_transformer):\n",
    "    return ColumnTransformer(transformers=[\n",
    "        ('numerical', numerical_transformer, columns_to_clean),\n",
    "        ('categorical', categorical_transformer, categorical_columns)\n",
    "    ])\n",
    "\n",
    "\n",
    "rf = RandomForestClassifier(criterion='entropy', n_estimators=200, max_depth=4, n_jobs=-1)\n",
    "\n",
    "rf_pipeline = Pipeline(steps=[('preprocessor', create_preprocessor(create_numerical_transformer(), create_categorical_transformer())),\n",
    "                              ('randomforestclassifier', rf)])\n",
    "\n",
    "X_train, X_val, y_train, y_val = train_test_split(X_raw, y, test_size=0.2, random_state=42)\n",
    "\n",
    "rf_pipeline.fit(X_train, y_train)\n",
    "\n",
    "rf_predict = rf_pipeline.predict(X_val)\n",
    "\n",
    "score = f1_score(y_val, rf_predict, average=\"micro\")\n",
    "print(f\"F1-Score: {score}\")"
   ],
   "id": "62795b495edd0200",
   "outputs": [
    {
     "name": "stdout",
     "output_type": "stream",
     "text": [
      "F1-Score: 0.5738186143780818\n"
     ]
    }
   ],
   "execution_count": 114
  },
  {
   "metadata": {},
   "cell_type": "markdown",
   "source": [
    "F1-Score: 0.5654150918056062\n",
    "\n",
    "F1-Score: 0.5738953588764606\n",
    "\n",
    "F1-Score: 0.5739721033748393"
   ],
   "id": "2fa96a023ef3ec34"
  },
  {
   "metadata": {
    "ExecuteTime": {
     "end_time": "2024-10-03T19:09:32.208602Z",
     "start_time": "2024-10-03T19:09:30.249483Z"
    }
   },
   "cell_type": "code",
   "source": [
    "# Fitting using all train_values\n",
    "rf_pipeline.fit(X_raw, y)\n",
    "\n",
    "# Prediction for test_values\n",
    "test_data = pd.read_csv('../data/test_values.csv')\n",
    "rf_predict = rf_pipeline.predict(test_data)"
   ],
   "id": "f07447b581e1522d",
   "outputs": [],
   "execution_count": 112
  },
  {
   "metadata": {
    "ExecuteTime": {
     "end_time": "2024-10-03T19:09:36.368949Z",
     "start_time": "2024-10-03T19:09:36.329155Z"
    }
   },
   "cell_type": "code",
   "source": [
    "def create_output(prediction: np.array, output_file_number: str):\n",
    "    output = pd.DataFrame()\n",
    "    output['building_id'] = test_data['building_id']\n",
    "    output['damage_grade'] = prediction\n",
    "    output.to_csv(f'../data/output_{output_file_number}.csv', index=False)\n",
    "    \n",
    "create_output(rf_predict, output_file_number='01')"
   ],
   "id": "355b0d4311fdd445",
   "outputs": [],
   "execution_count": 113
  },
  {
   "metadata": {},
   "cell_type": "code",
   "outputs": [],
   "execution_count": null,
   "source": "",
   "id": "5b4cf1ec3180d69"
  }
 ],
 "metadata": {
  "kernelspec": {
   "display_name": "Python 3",
   "language": "python",
   "name": "python3"
  },
  "language_info": {
   "codemirror_mode": {
    "name": "ipython",
    "version": 2
   },
   "file_extension": ".py",
   "mimetype": "text/x-python",
   "name": "python",
   "nbconvert_exporter": "python",
   "pygments_lexer": "ipython2",
   "version": "2.7.6"
  }
 },
 "nbformat": 4,
 "nbformat_minor": 5
}
