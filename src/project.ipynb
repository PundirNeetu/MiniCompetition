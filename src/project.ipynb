{
 "cells": [
  {
   "cell_type": "code",
   "execution_count": 1,
   "metadata": {},
   "outputs": [
    {
     "name": "stdout",
     "output_type": "stream",
     "text": [
      "Successfully loaded dataset from c:\\Users\\neetu\\Downloads\\DSR\\DSRNotesGit\\week4\\MiniCompetition\\data/train_values.csv.\n",
      "building_id                               0\n",
      "geo_level_1_id                            0\n",
      "geo_level_2_id                            0\n",
      "geo_level_3_id                            0\n",
      "count_floors_pre_eq                       0\n",
      "age                                       0\n",
      "area_percentage                           0\n",
      "height_percentage                         0\n",
      "land_surface_condition                    0\n",
      "foundation_type                           0\n",
      "roof_type                                 0\n",
      "ground_floor_type                         0\n",
      "other_floor_type                          0\n",
      "position                                  0\n",
      "plan_configuration                        0\n",
      "has_superstructure_adobe_mud              0\n",
      "has_superstructure_mud_mortar_stone       0\n",
      "has_superstructure_stone_flag             0\n",
      "has_superstructure_cement_mortar_stone    0\n",
      "has_superstructure_mud_mortar_brick       0\n",
      "has_superstructure_cement_mortar_brick    0\n",
      "has_superstructure_timber                 0\n",
      "has_superstructure_bamboo                 0\n",
      "has_superstructure_rc_non_engineered      0\n",
      "has_superstructure_rc_engineered          0\n",
      "has_superstructure_other                  0\n",
      "legal_ownership_status                    0\n",
      "count_families                            0\n",
      "has_secondary_use                         0\n",
      "has_secondary_use_agriculture             0\n",
      "has_secondary_use_hotel                   0\n",
      "has_secondary_use_rental                  0\n",
      "has_secondary_use_institution             0\n",
      "has_secondary_use_school                  0\n",
      "has_secondary_use_industry                0\n",
      "has_secondary_use_health_post             0\n",
      "has_secondary_use_gov_office              0\n",
      "has_secondary_use_use_police              0\n",
      "has_secondary_use_other                   0\n",
      "dtype: int64\n"
     ]
    },
    {
     "data": {
      "text/plain": [
       "Series([], dtype: int64)"
      ]
     },
     "execution_count": 1,
     "metadata": {},
     "output_type": "execute_result"
    }
   ],
   "source": [
    "from main import main\n",
    "main = main(r'c:\\Users\\neetu\\Downloads\\DSR\\DSRNotesGit\\week4\\MiniCompetition\\data')\n",
    "main.run()"
   ]
  }
 ],
 "metadata": {
  "kernelspec": {
   "display_name": "Python 3",
   "language": "python",
   "name": "python3"
  },
  "language_info": {
   "codemirror_mode": {
    "name": "ipython",
    "version": 3
   },
   "file_extension": ".py",
   "mimetype": "text/x-python",
   "name": "python",
   "nbconvert_exporter": "python",
   "pygments_lexer": "ipython3",
   "version": "3.12.6"
  }
 },
 "nbformat": 4,
 "nbformat_minor": 2
}
